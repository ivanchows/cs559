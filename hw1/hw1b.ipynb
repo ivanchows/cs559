{
  "nbformat": 4,
  "nbformat_minor": 0,
  "metadata": {
    "colab": {
      "provenance": []
    },
    "kernelspec": {
      "name": "python3",
      "display_name": "Python 3"
    },
    "language_info": {
      "name": "python"
    }
  },
  "cells": [
    {
      "cell_type": "code",
      "execution_count": 62,
      "metadata": {
        "id": "k23igQkM0Ugf",
        "colab": {
          "base_uri": "https://localhost:8080/"
        },
        "outputId": "35508280-7285-4c88-cf26-c70e63e90e14"
      },
      "outputs": [
        {
          "output_type": "stream",
          "name": "stdout",
          "text": [
            "Requirement already satisfied: ucimlrepo in /usr/local/lib/python3.10/dist-packages (0.0.7)\n",
            "Requirement already satisfied: pandas>=1.0.0 in /usr/local/lib/python3.10/dist-packages (from ucimlrepo) (2.1.4)\n",
            "Requirement already satisfied: certifi>=2020.12.5 in /usr/local/lib/python3.10/dist-packages (from ucimlrepo) (2024.8.30)\n",
            "Requirement already satisfied: numpy<2,>=1.22.4 in /usr/local/lib/python3.10/dist-packages (from pandas>=1.0.0->ucimlrepo) (1.26.4)\n",
            "Requirement already satisfied: python-dateutil>=2.8.2 in /usr/local/lib/python3.10/dist-packages (from pandas>=1.0.0->ucimlrepo) (2.8.2)\n",
            "Requirement already satisfied: pytz>=2020.1 in /usr/local/lib/python3.10/dist-packages (from pandas>=1.0.0->ucimlrepo) (2024.2)\n",
            "Requirement already satisfied: tzdata>=2022.1 in /usr/local/lib/python3.10/dist-packages (from pandas>=1.0.0->ucimlrepo) (2024.1)\n",
            "Requirement already satisfied: six>=1.5 in /usr/local/lib/python3.10/dist-packages (from python-dateutil>=2.8.2->pandas>=1.0.0->ucimlrepo) (1.16.0)\n"
          ]
        }
      ],
      "source": [
        "# Ivan Chow\n",
        "# I pledge my honor that I have abided by the Stevens Honor System.\n",
        "\n",
        "import numpy as np\n",
        "import pandas as pd\n",
        "import matplotlib.pyplot as plt\n",
        "\n",
        "!pip install ucimlrepo\n",
        "\n",
        "from ucimlrepo import fetch_ucirepo\n",
        "\n",
        "# fetch dataset\n",
        "bike_sharing = fetch_ucirepo(id=275)\n",
        "\n",
        "# data (as pandas dataframes)\n",
        "X = bike_sharing.data.features\n",
        "Y = bike_sharing.data.targets\n",
        "\n",
        "# delete first col\n",
        "X = X.drop(X.columns[0], axis=1)\n",
        "\n",
        "# metadata\n",
        "# print(bike_sharing.metadata)\n",
        "\n",
        "# variable information\n",
        "# print(bike_sharing.variables)\n",
        "\n",
        "# X.head()\n",
        "# y.head()"
      ]
    },
    {
      "cell_type": "markdown",
      "source": [
        "#Splitting Training Data into Training and Test Sets"
      ],
      "metadata": {
        "id": "2obiJQOR38AU"
      }
    },
    {
      "cell_type": "code",
      "source": [
        "# 80% training 20% testing\n",
        "\n",
        "def manual_train_test_split(X, Y, test_size=0.2):\n",
        "    # Get the number of data points\n",
        "    num_data_points = X.shape[0]\n",
        "\n",
        "    # Generate shuffled indices\n",
        "    shuffled_indices = np.random.permutation(num_data_points)\n",
        "\n",
        "    # Calculate the number of test samples\n",
        "    test_set_size = int(num_data_points * test_size)\n",
        "\n",
        "    # Split indices into test and train\n",
        "    test_indices = shuffled_indices[:test_set_size]\n",
        "    train_indices = shuffled_indices[test_set_size:]\n",
        "\n",
        "    # Use the indices to split the data\n",
        "    X_train = X.iloc[train_indices]\n",
        "    X_test = X.iloc[test_indices]\n",
        "    Y_train = Y.iloc[train_indices]\n",
        "    Y_test = Y.iloc[test_indices]\n",
        "\n",
        "    return X_train, X_test, Y_train, Y_test\n",
        "\n",
        "# Perform the manual train-test split\n",
        "X_train, X_test, Y_train, Y_test = manual_train_test_split(X, Y, test_size=0.2)\n"
      ],
      "metadata": {
        "id": "--KzFFtd4Baz"
      },
      "execution_count": 63,
      "outputs": []
    },
    {
      "cell_type": "markdown",
      "source": [
        "#Adding Intercept Terms"
      ],
      "metadata": {
        "id": "c_JgcIqF4XLt"
      }
    },
    {
      "cell_type": "code",
      "source": [
        "X_train_intercept = np.column_stack([np.ones(X_train.shape[0]), X_train])\n",
        "X_test_intercept = np.column_stack([np.ones(X_test.shape[0]), X_test])"
      ],
      "metadata": {
        "id": "i6eG0aPE4UXM"
      },
      "execution_count": 64,
      "outputs": []
    },
    {
      "cell_type": "markdown",
      "source": [
        "#Standardize Data"
      ],
      "metadata": {
        "id": "wX-gkipm_gdR"
      }
    },
    {
      "cell_type": "code",
      "source": [
        "def standardize(X_train, X_test):\n",
        "  mean = np.mean(X_train, axis = 0)\n",
        "  std = np.std(X_train, axis = 0)\n",
        "\n",
        "  # prevent div by 0\n",
        "  std[std == 0] = 1\n",
        "\n",
        "  X_train_scaled = (X_train - mean) / std\n",
        "  X_test_scaled = (X_test - mean) / std\n",
        "  return X_train_scaled, X_test_scaled"
      ],
      "metadata": {
        "id": "7TLG5KsK_i6z"
      },
      "execution_count": 65,
      "outputs": []
    },
    {
      "cell_type": "code",
      "source": [
        "X_train_scaled, X_test_scaled = standardize(X_train.values, X_test.values)"
      ],
      "metadata": {
        "id": "My3PAXEd_now"
      },
      "execution_count": 66,
      "outputs": []
    },
    {
      "cell_type": "code",
      "source": [
        "X_train_intercept_scaled = np.column_stack([np.ones(X_train_scaled.shape[0]), X_train_scaled])\n",
        "X_test_intercept_scaled = np.column_stack([np.ones(X_test_scaled.shape[0]), X_test_scaled])"
      ],
      "metadata": {
        "id": "Plo0V7AhAenV"
      },
      "execution_count": 67,
      "outputs": []
    },
    {
      "cell_type": "markdown",
      "source": [
        "#Compute Mini-Batch Gradient Descent"
      ],
      "metadata": {
        "id": "4xyHXiFi4ZyR"
      }
    },
    {
      "cell_type": "code",
      "source": [
        "def mgd(X, Y, learning_rate = 0.01, n_iterations = 1000, batch_size = 50):\n",
        "  m, n = X.shape\n",
        "  theta = np.random.randn(n, 1)\n",
        "  mse_history = []\n",
        "\n",
        "  for iteration in range(n_iterations):\n",
        "    for i in range(0, m, batch_size):\n",
        "      random_index = np.random.randint(m)\n",
        "      x_batch = X[random_index:random_index + batch_size]\n",
        "      y_batch = Y[random_index:random_index + batch_size]\n",
        "      gradients = 2 * x_batch.T.dot(x_batch.dot(theta) - y_batch)\n",
        "      theta = theta - learning_rate * gradients\n",
        "\n",
        "    # Store MSE for every iteration\n",
        "    mse = np.mean((X.dot(theta) - Y) ** 2)\n",
        "    mse_history.append(mse)\n",
        "\n",
        "    if iteration % 100 == 0 and iteration != 0:\n",
        "      print(f\"Iteration {iteration}: MSE = {mse}\")\n",
        "\n",
        "  return theta, mse_history"
      ],
      "metadata": {
        "id": "H3UJHo0O4bz5"
      },
      "execution_count": 68,
      "outputs": []
    },
    {
      "cell_type": "code",
      "source": [
        "theta_mgd, mse_history = mgd(X_train_intercept_scaled, Y_train, learning_rate = 0.00001, n_iterations = 100, batch_size = 50)"
      ],
      "metadata": {
        "id": "79FPi283A_0_"
      },
      "execution_count": 69,
      "outputs": []
    },
    {
      "cell_type": "markdown",
      "source": [
        "#Evaluating Model"
      ],
      "metadata": {
        "id": "ZpqspJwrBnea"
      }
    },
    {
      "cell_type": "code",
      "source": [
        "X_pred_sgd = np.dot(X_test_intercept_scaled, theta_mgd)"
      ],
      "metadata": {
        "id": "0to0ySP3Bqg0"
      },
      "execution_count": 70,
      "outputs": []
    },
    {
      "cell_type": "code",
      "source": [
        "mse_mgd = np.mean((X_pred_sgd - X_test.values) ** 2)\n",
        "print(f\"MGD MSE: {mse_mgd}\")"
      ],
      "metadata": {
        "colab": {
          "base_uri": "https://localhost:8080/"
        },
        "id": "7v-e6u25BxU0",
        "outputId": "0f843938-a877-4e82-f421-cf072d6efd5d"
      },
      "execution_count": 71,
      "outputs": [
        {
          "output_type": "stream",
          "name": "stdout",
          "text": [
            "MGD MSE: 47751.74517576337\n"
          ]
        }
      ]
    },
    {
      "cell_type": "code",
      "source": [
        "plt.plot(mse_history)\n",
        "plt.xlabel('Iterations')\n",
        "plt.ylabel('Mean Squared Error (MSE)')\n",
        "plt.title('MSE over Iteration (MGD)')\n",
        "plt.show()"
      ],
      "metadata": {
        "colab": {
          "base_uri": "https://localhost:8080/",
          "height": 472
        },
        "id": "1xcbajzrboip",
        "outputId": "d5c4dc03-ce13-4d77-9d2b-e10c9e4f28e8"
      },
      "execution_count": 72,
      "outputs": [
        {
          "output_type": "display_data",
          "data": {
            "text/plain": [
              "<Figure size 640x480 with 1 Axes>"
            ],
            "image/png": "[encoded data removed]"
          },
          "metadata": {}
        }
      ]
    },
    {
      "cell_type": "markdown",
      "source": [
        "#MSE On Test Data"
      ],
      "metadata": {
        "id": "AHPAoF0U25X8"
      }
    },
    {
      "cell_type": "code",
      "source": [
        "from sklearn.linear_model import Ridge\n",
        "from sklearn.metrics import mean_squared_error\n",
        "from sklearn.model_selection import KFold\n",
        "\n",
        "# Setting up K-Fold Cross Validation\n",
        "k = 10\n",
        "kf = KFold(n_splits = 10, random_state = 1, shuffle = True)\n",
        "\n",
        "# Initialize Ridge Regression model\n",
        "model = Ridge(alpha=1.0)\n",
        "mse_scores = [999999999999]  # Set to a max int\n",
        "best = None\n",
        "fold_number = 1\n",
        "best_fold = 0\n",
        "\n",
        "# Perform K-Fold Cross Validation\n",
        "for train_index, test_index in kf.split(X_train_intercept):\n",
        "    # Training using k-1 partition\n",
        "    X_train_fold, X_test_fold = X_train_intercept[train_index], X_train_intercept[test_index]\n",
        "    Y_train_fold, Y_test_fold = Y_train.iloc[train_index], Y_train.iloc[test_index]\n",
        "\n",
        "    # Train the model\n",
        "    model.fit(X_train_fold, Y_train_fold)\n",
        "\n",
        "    # Make prediction on the test set\n",
        "    Y_pred_fold = model.predict(X_test_fold)\n",
        "\n",
        "    # Calculate MSE\n",
        "    mse_fold = mean_squared_error(Y_test_fold, Y_pred_fold)\n",
        "    print(f\"MSE for fold {fold_number}: {mse_fold}\")\n",
        "\n",
        "    if mse_fold < mse_scores:\n",
        "      mse_scores = mse_fold\n",
        "      best = model\n",
        "      best_fold = fold_number\n",
        "\n",
        "    fold_number += 1\n",
        "print(f\"Lowest MSE fold {best_fold}: {mse_scores}\")\n",
        "\n",
        "# Final model training on the full training set\n",
        "best.fit(X_train_intercept, Y_train)\n",
        "\n",
        "# Make predictions on the test set\n",
        "Y_pred = best.predict(X_test_intercept)\n",
        "\n",
        "# Calculate MSE on the test set\n",
        "mse_test = mean_squared_error(Y_test, Y_pred)\n",
        "print(f\"Mean Squared Error (MSE) on Test Data: {mse_test}\")"
      ],
      "metadata": {
        "colab": {
          "base_uri": "https://localhost:8080/"
        },
        "id": "WTEZYc8L3GxU",
        "outputId": "d7b55f9c-1e42-4d6a-eaec-329b656e0365"
      },
      "execution_count": 75,
      "outputs": [
        {
          "output_type": "stream",
          "name": "stdout",
          "text": [
            "MSE for fold 1: 19574.49133436803\n",
            "MSE for fold 2: 21690.925450276995\n",
            "MSE for fold 3: 20501.30591138257\n",
            "MSE for fold 4: 19257.937631093115\n",
            "MSE for fold 5: 19613.965084294075\n",
            "MSE for fold 6: 19170.400708731075\n",
            "MSE for fold 7: 19653.267199100228\n",
            "MSE for fold 8: 21262.931894230718\n",
            "MSE for fold 9: 20705.887930141907\n",
            "MSE for fold 10: 20084.964774799035\n",
            "Lowest MSE fold 6: 19170.400708731075\n",
            "Mean Squared Error (MSE) on Test Data: 20098.474635350285\n"
          ]
        }
      ]
    }
  ]
}