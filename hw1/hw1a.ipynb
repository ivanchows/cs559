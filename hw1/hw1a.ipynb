{
  "cells": [
    {
      "cell_type": "code",
      "execution_count": 7,
      "metadata": {
        "id": "hZVXgP4vL92Y"
      },
      "outputs": [],
      "source": [
        "# Ivan Chow\n",
        "# I pledge my honor that I have abided by the Stevens Honor System.\n",
        "\n",
        "import numpy as np\n",
        "import pandas as pd\n",
        "import matplotlib.pyplot as plt\n",
        "from sklearn.datasets import fetch_california_housing\n",
        "\n",
        "\n",
        "housing = fetch_california_housing()\n",
        "X = pd.DataFrame(housing.data, columns = housing.feature_names)\n",
        "Y = pd.DataFrame(housing.target, columns = ['PRICE'])\n",
        "\n",
        "# X.head()\n",
        "# Y.head()\n",
        "\n"
      ]
    },
    {
      "cell_type": "markdown",
      "metadata": {
        "id": "MF_bbrvAOPUM"
      },
      "source": [
        "# Splitting Training Data into Training and Test Sets\n"
      ]
    },
    {
      "cell_type": "code",
      "execution_count": 12,
      "metadata": {
        "id": "chkgaJKXOPld"
      },
      "outputs": [],
      "source": [
        "# 80% training 20% testing\n",
        "\n",
        "def manual_train_test_split(X, Y, test_size=0.2):\n",
        "    # Get the number of data points\n",
        "    num_data_points = X.shape[0]\n",
        "\n",
        "    # Generate shuffled indices\n",
        "    shuffled_indices = np.random.permutation(num_data_points)\n",
        "\n",
        "    # Calculate the number of test samples\n",
        "    test_set_size = int(num_data_points * test_size)\n",
        "\n",
        "    # Split indices into test and train\n",
        "    test_indices = shuffled_indices[:test_set_size]\n",
        "    train_indices = shuffled_indices[test_set_size:]\n",
        "\n",
        "    # Use the indices to split the data\n",
        "    X_train = X.iloc[train_indices]\n",
        "    X_test = X.iloc[test_indices]\n",
        "    Y_train = Y.iloc[train_indices]\n",
        "    Y_test = Y.iloc[test_indices]\n",
        "\n",
        "    return X_train, X_test, Y_train, Y_test\n",
        "\n",
        "# Perform the manual train-test split\n",
        "X_train, X_test, Y_train, Y_test = manual_train_test_split(X, Y, test_size=0.2)"
      ]
    },
    {
      "cell_type": "markdown",
      "metadata": {
        "id": "LfJVn5NMONRq"
      },
      "source": [
        "#Adding Intercept Terms"
      ]
    },
    {
      "cell_type": "code",
      "execution_count": 13,
      "metadata": {
        "id": "0ENn2hhYOCvv"
      },
      "outputs": [],
      "source": [
        "X_train_intercept = np.column_stack([np.ones(X_train.shape[0]), X_train])\n",
        "X_test_intercept = np.column_stack([np.ones(X_test.shape[0]), X_test])"
      ]
    },
    {
      "cell_type": "markdown",
      "metadata": {
        "id": "njLyXNk9NdV6"
      },
      "source": [
        "#Compute Normal Equation"
      ]
    },
    {
      "cell_type": "code",
      "execution_count": 16,
      "metadata": {
        "id": "SllcX3vFNaby"
      },
      "outputs": [],
      "source": [
        "#   w*= (X^T * X)^-1 * X^T * y\n",
        "\n",
        "XtX = np.dot(X_train_intercept.T, X_train_intercept)\n",
        "XtX_inv = np.linalg.inv(XtX)\n",
        "XtY = np.dot(X_train_intercept.T, Y_train)\n",
        "theta = np.dot(XtX_inv, XtY)"
      ]
    },
    {
      "cell_type": "markdown",
      "metadata": {
        "id": "jOaHZ4LIj7oG"
      },
      "source": [
        "#Predictions"
      ]
    },
    {
      "cell_type": "code",
      "execution_count": 17,
      "metadata": {
        "id": "TR7gChNVj8-3"
      },
      "outputs": [],
      "source": [
        "Y_pred_test = np.dot(X_test_intercept, theta)"
      ]
    },
    {
      "cell_type": "markdown",
      "metadata": {
        "id": "BAmE6uD2kDrZ"
      },
      "source": [
        "#MSE"
      ]
    },
    {
      "cell_type": "code",
      "execution_count": 18,
      "metadata": {
        "colab": {
          "base_uri": "https://localhost:8080/"
        },
        "id": "pd1S6s6YkGF0",
        "outputId": "aee391ce-153b-45b2-a492-294997cecd4f"
      },
      "outputs": [
        {
          "name": "stdout",
          "output_type": "stream",
          "text": [
            "MSE: 0.5336765258139041\n"
          ]
        }
      ],
      "source": [
        "mse = np.mean((Y_pred_test - Y_test) ** 2)\n",
        "print(f\"MSE: {mse}\")"
      ]
    },
    {
      "cell_type": "markdown",
      "metadata": {
        "id": "pCRV8B0hQcfR"
      },
      "source": [
        "#Stochastic Gradient Descent"
      ]
    },
    {
      "cell_type": "code",
      "execution_count": 19,
      "metadata": {
        "id": "E8kM5lxdQb2c"
      },
      "outputs": [],
      "source": [
        "def standardize(X_train, X_test):\n",
        "  mean = np.mean(X_train, axis = 0)\n",
        "  std = np.std(X_train, axis = 0)\n",
        "\n",
        "  # prevent div by 0\n",
        "  std[std == 0] = 1\n",
        "\n",
        "  X_train_scaled = (X_train - mean) / std\n",
        "  X_test_scaled = (X_test - mean) / std\n",
        "  return X_train_scaled, X_test_scaled"
      ]
    },
    {
      "cell_type": "code",
      "execution_count": 20,
      "metadata": {
        "id": "_Qrj8PaPkuGE"
      },
      "outputs": [],
      "source": [
        "X_train_scaled, X_test_scaled = standardize(X_train.values, X_test.values)"
      ]
    },
    {
      "cell_type": "code",
      "execution_count": 21,
      "metadata": {
        "id": "LSYorJHkkxYI"
      },
      "outputs": [],
      "source": [
        "X_train_intercept_scaled = np.column_stack([np.ones(X_train_scaled.shape[0]), X_train_scaled])\n",
        "X_test_intercept_scaled = np.column_stack([np.ones(X_test_scaled.shape[0]), X_test_scaled])"
      ]
    },
    {
      "cell_type": "code",
      "execution_count": 57,
      "metadata": {
        "id": "cNLW4kSyk2KG"
      },
      "outputs": [],
      "source": [
        "def sgd(X, y, X_val, Y_val, learning_rate=0.01, n_iterations = 1000):\n",
        "    m, n = X.shape\n",
        "    theta = np.random.randn(n, 1)  # Initialize theta with random values\n",
        "    Y = y.values.reshape(-1, 1)    # Reshape y to be a column vector\n",
        "    Y_val = Y_val.values.reshape(-1, 1)\n",
        "    mse_history = []  # List to store MSE values over iterations\n",
        "    valid_loss = []\n",
        "\n",
        "    for iteration in range(n_iterations):\n",
        "        for i in range(m):\n",
        "            random_index = np.random.randint(m)\n",
        "            Xi = X[random_index:random_index+1]\n",
        "            Yi = Y[random_index:random_index+1]\n",
        "            gradients = 2 * Xi.T.dot(Xi.dot(theta) - Yi)\n",
        "            theta = theta - learning_rate * gradients\n",
        "\n",
        "        # Store MSE for every iteration\n",
        "        mse = np.mean((X.dot(theta) - Y) ** 2)\n",
        "        mse_history.append(mse)\n",
        "\n",
        "        val_mse = np.mean((X_val.dot(theta) - Y_val) ** 2)\n",
        "        valid_loss.append(val_mse)\n",
        "\n",
        "        if iteration % 100 == 0 and iteration != 0:\n",
        "            print(f\"Iteration {iteration}: MSE = {mse}\")\n",
        "\n",
        "    return theta, mse_history, valid_loss"
      ]
    },
    {
      "cell_type": "code",
      "execution_count": 63,
      "metadata": {
        "id": "5XGebM_Nll_V"
      },
      "outputs": [],
      "source": [
        "# train model using SGD\n",
        "#theta_sgd, mse_history = sgd(X_train_intercept_scaled, Y_train, learning_rate=0.00001, n_iterations=100)\n",
        "theta_sgd, mse_history, valid_loss = sgd(X_train_intercept_scaled, Y_train, X_test_intercept_scaled, Y_test, learning_rate=0.00001, n_iterations=100)"
      ]
    },
    {
      "cell_type": "markdown",
      "metadata": {
        "id": "a_BaXHwLmIi7"
      },
      "source": [
        "#Evaluating Model"
      ]
    },
    {
      "cell_type": "code",
      "execution_count": 43,
      "metadata": {
        "id": "n10hp0YPlx58"
      },
      "outputs": [],
      "source": [
        "Y_pred_sgd = np.dot(X_test_intercept_scaled, theta_sgd)"
      ]
    },
    {
      "cell_type": "code",
      "execution_count": 44,
      "metadata": {
        "colab": {
          "base_uri": "https://localhost:8080/"
        },
        "id": "zuE4d23ml5oi",
        "outputId": "7b79b1a3-7adb-4580-961c-edd620e975f6"
      },
      "outputs": [
        {
          "name": "stdout",
          "output_type": "stream",
          "text": [
            "SGD MSE: 0.5336928598260782\n"
          ]
        }
      ],
      "source": [
        "mse_sgd = np.mean((Y_pred_sgd - Y_test.values) ** 2)\n",
        "print(f\"SGD MSE: {mse_sgd}\")"
      ]
    },
    {
      "cell_type": "code",
      "execution_count": 66,
      "metadata": {
        "colab": {
          "base_uri": "https://localhost:8080/",
          "height": 927
        },
        "id": "V16kMVVYmMiT",
        "outputId": "d7ca6586-72ef-4562-b8e5-39a14e05f827"
      },
      "outputs": [
        {
          "data": {
            "image/png": "[encoded data removed]",
            "text/plain": [
              "<Figure size 640x480 with 1 Axes>"
            ]
          },
          "metadata": {},
          "output_type": "display_data"
        },
        {
          "data": {
            "image/png": "[encoded data removed]",
            "text/plain": [
              "<Figure size 640x480 with 1 Axes>"
            ]
          },
          "metadata": {},
          "output_type": "display_data"
        }
      ],
      "source": [
        "plt.plot(mse_history)\n",
        "plt.xlabel('Iterations')\n",
        "plt.ylabel('Mean Squared Error (MSE)')\n",
        "plt.title('MSE over Iterations (SGD)')\n",
        "plt.show()\n",
        "\n",
        "plt.plot(valid_loss)\n",
        "plt.xlabel('Iterations')\n",
        "plt.ylabel('MSE over Iterations (MSE)')\n",
        "plt.title('Validation Loss Curve (SGD)')\n",
        "plt.show()\n"
      ]
    },
    {
      "cell_type": "markdown",
      "metadata": {
        "id": "8fxUdzqLNWq3"
      },
      "source": [
        "#MSE on Test Data"
      ]
    },
    {
      "cell_type": "code",
      "execution_count": 48,
      "metadata": {
        "colab": {
          "base_uri": "https://localhost:8080/"
        },
        "id": "EiCVqnUMNVDq",
        "outputId": "9507ff34-bbfc-4b4b-f700-e53b09401ac4"
      },
      "outputs": [
        {
          "name": "stdout",
          "output_type": "stream",
          "text": [
            "Mean Squared Error (MSE) on Test Data: 0.5336765258137047\n"
          ]
        }
      ],
      "source": [
        "from sklearn.linear_model import LinearRegression\n",
        "from sklearn.metrics import mean_squared_error\n",
        "\n",
        "# Initialize Linear Regression model\n",
        "model = LinearRegression()\n",
        "\n",
        "# Train the model\n",
        "model.fit(X_train_intercept, Y_train)\n",
        "\n",
        "# Make predictions on the test set\n",
        "Y_pred = model.predict(X_test_intercept)\n",
        "\n",
        "# Calculate Mean Squared Error\n",
        "mse = mean_squared_error(Y_test, Y_pred)\n",
        "print(f\"Mean Squared Error (MSE) on Test Data: {mse}\")\n"
      ]
    }
  ],
  "metadata": {
    "colab": {
      "provenance": []
    },
    "kernelspec": {
      "display_name": "Python 3",
      "name": "python3"
    },
    "language_info": {
      "name": "python"
    }
  },
  "nbformat": 4,
  "nbformat_minor": 0
}
